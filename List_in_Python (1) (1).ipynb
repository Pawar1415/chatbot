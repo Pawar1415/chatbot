{
  "nbformat": 4,
  "nbformat_minor": 0,
  "metadata": {
    "colab": {
      "provenance": []
    },
    "kernelspec": {
      "name": "python3",
      "display_name": "Python 3"
    },
    "language_info": {
      "name": "python"
    }
  },
  "cells": [
    {
      "cell_type": "markdown",
      "source": [
        "# **Data Type - List**"
      ],
      "metadata": {
        "id": "vykw4uclv_Fy"
      }
    },
    {
      "cell_type": "markdown",
      "source": [
        "\n",
        "\n",
        "*   Lists are used to store multiple items in a single variable.\n",
        "*   List items are ordered, changeable, and allow duplicate values.\n",
        "*   List items are indexed, the first item has index [0], the second item has index [1].\n",
        "\n",
        "\n",
        "\n",
        "\n",
        "\n",
        "\n",
        "\n",
        "\n"
      ],
      "metadata": {
        "id": "ZHjLsDt4wMhC"
      }
    },
    {
      "cell_type": "markdown",
      "source": [
        "**Creating a list** : Lists are created using square brackets [].\n",
        "\n"
      ],
      "metadata": {
        "id": "6DUEIRpeAIk8"
      }
    },
    {
      "cell_type": "code",
      "source": [
        "# List of customer orders\n",
        "orders = [\n",
        "    {\"order_id\": 1, \"customer\": \"Alice\", \"total\": 250},\n",
        "    {\"order_id\": 2, \"customer\": \"Bob\", \"total\": 150},\n",
        "    {\"order_id\": 3, \"customer\": \"Charlie\", \"total\": 300},\n",
        "    {\"order_id\": 4, \"customer\": \"Alice\", \"total\": 400},\n",
        "    {\"order_id\": 5, \"customer\": \"Eve\", \"total\": 100}\n",
        "]\n",
        "\n"
      ],
      "metadata": {
        "id": "6kHjfkEqAOKf"
      },
      "execution_count": null,
      "outputs": []
    },
    {
      "cell_type": "markdown",
      "source": [
        "# **Access**"
      ],
      "metadata": {
        "id": "cVKL1H3tAlOy"
      }
    },
    {
      "cell_type": "markdown",
      "source": [
        "**Through Indexing** : You can access list elements using indexing, starting from 0 for the first element."
      ],
      "metadata": {
        "id": "2xWnq0FdAWJY"
      }
    },
    {
      "cell_type": "code",
      "source": [
        "first_order = orders[0]\n",
        "print(first_order)#First Element\n"
      ],
      "metadata": {
        "colab": {
          "base_uri": "https://localhost:8080/"
        },
        "id": "w9gWO8jsAYPq",
        "outputId": "eb0c0f62-fad3-4717-afed-7c1ccf227f3f"
      },
      "execution_count": null,
      "outputs": [
        {
          "output_type": "stream",
          "name": "stdout",
          "text": [
            "{'order_id': 1, 'customer': 'Alice', 'total': 250}\n"
          ]
        }
      ]
    },
    {
      "cell_type": "markdown",
      "source": [
        "**Through Negative Indexing** : use negative indices to access elements from the end of the list."
      ],
      "metadata": {
        "id": "djLUacbiAgq1"
      }
    },
    {
      "cell_type": "code",
      "source": [
        "latest_order = orders[-1]  # Accesses the last element\n",
        "\n",
        "print(latest_order)\n"
      ],
      "metadata": {
        "id": "2aMFYQlDA-A4",
        "colab": {
          "base_uri": "https://localhost:8080/"
        },
        "outputId": "55041567-9595-4cf5-af5a-e099573334ad"
      },
      "execution_count": null,
      "outputs": [
        {
          "output_type": "stream",
          "name": "stdout",
          "text": [
            "{'order_id': 6, 'customer': 'Frank', 'total': 200}\n"
          ]
        }
      ]
    },
    {
      "cell_type": "markdown",
      "source": [
        "**Slicing** : You can access a portion of a list using slicing."
      ],
      "metadata": {
        "id": "t0NEc7ZyBBQq"
      }
    },
    {
      "cell_type": "code",
      "source": [
        "sliced_order = orders[1:3]  # Accesses elements from index 1 to 2\n",
        "print(sliced_order)"
      ],
      "metadata": {
        "id": "2G--KxEBBEkF",
        "colab": {
          "base_uri": "https://localhost:8080/"
        },
        "outputId": "7b8e6a71-5e32-42a7-8b7e-909dab220ee1"
      },
      "execution_count": null,
      "outputs": [
        {
          "output_type": "stream",
          "name": "stdout",
          "text": [
            "[{'order_id': 2, 'customer': 'Bob', 'total': 150}, {'order_id': 3, 'customer': 'Charlie', 'total': 300}]\n"
          ]
        }
      ]
    },
    {
      "cell_type": "markdown",
      "source": [
        "# **Manipulating Lists**"
      ],
      "metadata": {
        "id": "roSimJPdBHE_"
      }
    },
    {
      "cell_type": "markdown",
      "source": [
        "**Methods**:"
      ],
      "metadata": {
        "id": "Pzz15BYyBWae"
      }
    },
    {
      "cell_type": "markdown",
      "source": [
        "**1]Adding Elements**"
      ],
      "metadata": {
        "id": "0gr_pk5-BYCH"
      }
    },
    {
      "cell_type": "markdown",
      "source": [
        "i) **append()**: Adds a single element to the end of the list."
      ],
      "metadata": {
        "id": "N3ubnTlNBe2S"
      }
    },
    {
      "cell_type": "code",
      "source": [
        "# New order\n",
        "new_order = {\"order_id\": 6, \"customer\": \"Frank\", \"total\": 200}\n",
        "\n",
        "# Add the new order to the list\n",
        "orders.append(new_order)\n",
        "\n",
        "print(new_order)"
      ],
      "metadata": {
        "id": "sdZ6D064Bis4",
        "colab": {
          "base_uri": "https://localhost:8080/"
        },
        "outputId": "3fbd23c6-458b-42db-9f27-a3a7d70cf53b"
      },
      "execution_count": null,
      "outputs": [
        {
          "output_type": "stream",
          "name": "stdout",
          "text": [
            "{'order_id': 6, 'customer': 'Frank', 'total': 200}\n"
          ]
        }
      ]
    },
    {
      "cell_type": "markdown",
      "source": [
        "ii) **extend()**: Adds all elements of an iterable (e.g., another list) to the end of the list.\n",
        "\n"
      ],
      "metadata": {
        "id": "YvoN-DhBB74R"
      }
    },
    {
      "cell_type": "code",
      "source": [
        "new_order={\"order_id\":7,\"customer\":\"Grace\",\"total\":300}\n",
        "orders.extend(new_order)\n",
        "print(new_order)\n"
      ],
      "metadata": {
        "id": "qJ8f_rQ0CEdC",
        "colab": {
          "base_uri": "https://localhost:8080/"
        },
        "outputId": "532e7e17-8fb2-4d5d-e1f1-5e4866a5cc0c"
      },
      "execution_count": null,
      "outputs": [
        {
          "output_type": "stream",
          "name": "stdout",
          "text": [
            "{'order_id': 7, 'customer': 'Grace', 'total': 300}\n"
          ]
        }
      ]
    },
    {
      "cell_type": "markdown",
      "source": [
        "iii) **insert()**: Inserts an element at a specific position in the list.\n",
        "\n"
      ],
      "metadata": {
        "id": "4knQOHDNCILC"
      }
    },
    {
      "cell_type": "code",
      "source": [
        "new_order={\"order_id\":8,\"customer\":\"Hank\",\"total\":400}\n",
        "orders.insert(2,new_order)\n",
        "print(new_order)\n"
      ],
      "metadata": {
        "id": "rLY2cwwsCMSU",
        "colab": {
          "base_uri": "https://localhost:8080/"
        },
        "outputId": "c3624cb6-6272-4e99-ffed-8056288e7a72"
      },
      "execution_count": null,
      "outputs": [
        {
          "output_type": "stream",
          "name": "stdout",
          "text": [
            "{'order_id': 8, 'customer': 'Hank', 'total': 400}\n"
          ]
        }
      ]
    },
    {
      "cell_type": "markdown",
      "source": [
        "**2]Removing Elements**"
      ],
      "metadata": {
        "id": "db-68sTqCPXa"
      }
    },
    {
      "cell_type": "markdown",
      "source": [
        "i) **remove()**: Removes the first occurrence of the specified value.\n",
        "\n",
        "\n",
        "\n",
        "\n"
      ],
      "metadata": {
        "id": "KbMYCOlfCVNF"
      }
    },
    {
      "cell_type": "code",
      "source": [
        "from os import remove\n",
        "remove_order = {\"order_id\": 3, \"customer\": \"Charlie\", \"total\": 300}\n",
        "orders.remove(remove_order)\n",
        "print(remove_order)\n"
      ],
      "metadata": {
        "id": "prCJDRuWCim-",
        "colab": {
          "base_uri": "https://localhost:8080/"
        },
        "outputId": "cd5a4609-8c7e-47a6-f5ef-dde354651562"
      },
      "execution_count": null,
      "outputs": [
        {
          "output_type": "stream",
          "name": "stdout",
          "text": [
            "{'order_id': 3, 'customer': 'Charlie', 'total': 300}\n"
          ]
        }
      ]
    },
    {
      "cell_type": "markdown",
      "source": [
        "ii) **pop()**: Removes and returns the element at the specified index (default is the last element)."
      ],
      "metadata": {
        "id": "ZonmdVz4Cf_h"
      }
    },
    {
      "cell_type": "code",
      "source": [
        "latest_order = orders.pop()  # Removes and returns the last element\n",
        "print(latest_order)"
      ],
      "metadata": {
        "id": "7WvgBLTfCmy6",
        "colab": {
          "base_uri": "https://localhost:8080/"
        },
        "outputId": "06e764f2-eec7-4867-e796-f8363ac98156"
      },
      "execution_count": null,
      "outputs": [
        {
          "output_type": "stream",
          "name": "stdout",
          "text": [
            "customer\n"
          ]
        }
      ]
    },
    {
      "cell_type": "markdown",
      "source": [
        "\n",
        "iii) **clear()**: Removes all elements from the list."
      ],
      "metadata": {
        "id": "UIJOJqQfCpH3"
      }
    },
    {
      "cell_type": "code",
      "source": [
        "orders.clear()  # []\n"
      ],
      "metadata": {
        "id": "46LInhKPCshB"
      },
      "execution_count": null,
      "outputs": []
    },
    {
      "cell_type": "markdown",
      "source": [
        "**3] Modifying Elements**"
      ],
      "metadata": {
        "id": "ajPOoYagC3pu"
      }
    },
    {
      "cell_type": "markdown",
      "source": [
        "*  You can modify an element at a specific index by assignment.\n",
        "\n",
        "\n",
        "\n",
        "\n"
      ],
      "metadata": {
        "id": "vVDACHyEC-jH"
      }
    },
    {
      "cell_type": "code",
      "source": [
        "# List of customer orders\n",
        "orders = [\n",
        "    {\"order_id\": 1, \"customer\": \"Alice\", \"total\": 250},\n",
        "    {\"order_id\": 2, \"customer\": \"Bob\", \"total\": 150},\n",
        "    {\"order_id\": 3, \"customer\": \"Charlie\", \"total\": 300},\n",
        "    {\"order_id\": 4, \"customer\": \"Alice\", \"total\": 400},\n",
        "    {\"order_id\": 5, \"customer\": \"Eve\", \"total\": 100}\n",
        "]\n",
        "\n",
        "orders[0]={\"order_id\": 6, \"customer\": \"Frank\", \"total\": 200}\n",
        "print(orders)\n"
      ],
      "metadata": {
        "id": "cqQInj_nDCah",
        "colab": {
          "base_uri": "https://localhost:8080/"
        },
        "outputId": "a0cc7cf0-67ac-4f44-96f0-203f174438cf"
      },
      "execution_count": null,
      "outputs": [
        {
          "output_type": "stream",
          "name": "stdout",
          "text": [
            "[{'order_id': 6, 'customer': 'Frank', 'total': 200}, {'order_id': 2, 'customer': 'Bob', 'total': 150}, {'order_id': 3, 'customer': 'Charlie', 'total': 300}, {'order_id': 4, 'customer': 'Alice', 'total': 400}, {'order_id': 5, 'customer': 'Eve', 'total': 100}]\n"
          ]
        }
      ]
    },
    {
      "cell_type": "markdown",
      "source": [
        "**4] Sorting and Reversing**"
      ],
      "metadata": {
        "id": "XUCsW5vyDJhb"
      }
    },
    {
      "cell_type": "markdown",
      "source": [
        "**sort():** Sorts the list in place (default is ascending order).\n",
        "\n"
      ],
      "metadata": {
        "id": "ZVawrH_GDPXX"
      }
    },
    {
      "cell_type": "code",
      "source": [
        "\n",
        "orders.sort(key=lambda x: x[\"total\"], reverse=True)\n",
        "print(orders)\n"
      ],
      "metadata": {
        "id": "myheiZyrDSf3",
        "colab": {
          "base_uri": "https://localhost:8080/"
        },
        "outputId": "dd46fc86-4e5a-4b9a-9eca-30cab3c215f4"
      },
      "execution_count": null,
      "outputs": [
        {
          "output_type": "stream",
          "name": "stdout",
          "text": [
            "[{'order_id': 4, 'customer': 'Alice', 'total': 400}, {'order_id': 3, 'customer': 'Charlie', 'total': 300}, {'order_id': 6, 'customer': 'Frank', 'total': 200}, {'order_id': 2, 'customer': 'Bob', 'total': 150}, {'order_id': 5, 'customer': 'Eve', 'total': 100}]\n"
          ]
        }
      ]
    },
    {
      "cell_type": "markdown",
      "source": [
        "**reverse()**: Reverses the list in place.\n",
        "\n"
      ],
      "metadata": {
        "id": "TmPUhnEXDbe0"
      }
    },
    {
      "cell_type": "code",
      "source": [
        "orders.reverse()\n",
        "print(orders)\n"
      ],
      "metadata": {
        "id": "QrN8_ImPDeDm",
        "colab": {
          "base_uri": "https://localhost:8080/"
        },
        "outputId": "4d9f2ad2-0ce3-4083-e82a-d0fc74953a28"
      },
      "execution_count": null,
      "outputs": [
        {
          "output_type": "stream",
          "name": "stdout",
          "text": [
            "[{'order_id': 5, 'customer': 'Eve', 'total': 100}, {'order_id': 2, 'customer': 'Bob', 'total': 150}, {'order_id': 6, 'customer': 'Frank', 'total': 200}, {'order_id': 3, 'customer': 'Charlie', 'total': 300}, {'order_id': 4, 'customer': 'Alice', 'total': 400}]\n"
          ]
        }
      ]
    }
  ]
}