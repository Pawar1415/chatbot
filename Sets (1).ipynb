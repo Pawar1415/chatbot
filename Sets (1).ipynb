{
  "cells": [
    {
      "cell_type": "markdown",
      "id": "3e2e14c9-51e1-40c5-9291-18e01643cd81",
      "metadata": {
        "id": "3e2e14c9-51e1-40c5-9291-18e01643cd81"
      },
      "source": [
        "# **Data Types - Sets**"
      ]
    },
    {
      "cell_type": "markdown",
      "id": "77f460e7-732d-4a6f-bba3-7b2d283e2ec1",
      "metadata": {
        "id": "77f460e7-732d-4a6f-bba3-7b2d283e2ec1"
      },
      "source": [
        "**About Sets**"
      ]
    },
    {
      "cell_type": "markdown",
      "id": "94071b1b-9e7a-4bf4-b507-0d2bda2e92ee",
      "metadata": {
        "id": "94071b1b-9e7a-4bf4-b507-0d2bda2e92ee"
      },
      "source": [
        "*  Sets are used to store multiple items in a single variable.\n",
        "*  Set is one of 4 built-in data types in Python used to store collections of data, the other 3 are List, Tuple, and Dictionary, all with different qualities and usage.\n",
        "*   A set is a collection which is unordered, unchangeable, and unindexed.\n",
        "*  Sets are unordered, so you cannot be sure in which order the items will appear.\n",
        "* Sets are written with curly brackets.\n",
        "\n",
        "\n",
        "\n"
      ]
    },
    {
      "cell_type": "markdown",
      "id": "1d5bc5b1-b91d-4592-a0d0-4220ac65e257",
      "metadata": {
        "id": "1d5bc5b1-b91d-4592-a0d0-4220ac65e257"
      },
      "source": [
        "**1. Creating a Set**"
      ]
    },
    {
      "cell_type": "code",
      "execution_count": 1,
      "id": "7f39ad39-6b37-4bd8-81ed-3d4e89c5c828",
      "metadata": {
        "colab": {
          "base_uri": "https://localhost:8080/"
        },
        "id": "7f39ad39-6b37-4bd8-81ed-3d4e89c5c828",
        "outputId": "e0cffc2b-00b2-4d54-a083-be192b9b086d"
      },
      "outputs": [
        {
          "output_type": "stream",
          "name": "stdout",
          "text": [
            "{'phones', 'tablets', 'laptops'}\n"
          ]
        }
      ],
      "source": [
        "'''Imagine you are working for a retail company that sells items like laptops, phones, and tablets. You need to store unique product categories.'''\n",
        "\n",
        "product_categories = {\"laptops\", \"phones\", \"tablets\"}\n",
        "print(product_categories)\n",
        "\n"
      ]
    },
    {
      "cell_type": "markdown",
      "id": "82b0958c-235e-4e89-a8c8-9c95284a076a",
      "metadata": {
        "id": "82b0958c-235e-4e89-a8c8-9c95284a076a"
      },
      "source": [
        "**2. Accessing Elements in a Set**"
      ]
    },
    {
      "cell_type": "markdown",
      "id": "5b4502e3-92c6-4cd2-9c2c-503964372c12",
      "metadata": {
        "id": "5b4502e3-92c6-4cd2-9c2c-503964372c12"
      },
      "source": [
        "*  You can't access items via indexing or slicing since sets are unordered.\n",
        "\n",
        "\n"
      ]
    },
    {
      "cell_type": "code",
      "execution_count": null,
      "id": "cbff56d1-b3c2-43e3-a75c-478860c2b4e5",
      "metadata": {
        "id": "cbff56d1-b3c2-43e3-a75c-478860c2b4e5",
        "outputId": "1c555b07-b85e-4eff-dea7-53da6614e03a"
      },
      "outputs": [
        {
          "name": "stdout",
          "output_type": "stream",
          "text": [
            "1001\n"
          ]
        }
      ],
      "source": [
        "print(\"laptops\" in product_categories)  # Checks if 'laptops' is in the set\n"
      ]
    },
    {
      "cell_type": "markdown",
      "id": "25f5ff98-36ce-4569-9536-b0e6d152ed62",
      "metadata": {
        "id": "25f5ff98-36ce-4569-9536-b0e6d152ed62"
      },
      "source": [
        "**3. Manipulating Sets**"
      ]
    },
    {
      "cell_type": "markdown",
      "source": [
        "**Adding an element**"
      ],
      "metadata": {
        "id": "0-Ou0-nABjb2"
      },
      "id": "0-Ou0-nABjb2"
    },
    {
      "cell_type": "code",
      "source": [
        "# You launch a new product category – Smartwatches.\n",
        "product_categories.add(\"smartwatches\")\n",
        "print(product_categories)\n"
      ],
      "metadata": {
        "colab": {
          "base_uri": "https://localhost:8080/"
        },
        "id": "hlOlI564CyCX",
        "outputId": "7da4ca4f-7208-427d-b16a-cf6501fd4f27"
      },
      "id": "hlOlI564CyCX",
      "execution_count": 2,
      "outputs": [
        {
          "output_type": "stream",
          "name": "stdout",
          "text": [
            "{'phones', 'tablets', 'laptops', 'smartwatches'}\n"
          ]
        }
      ]
    },
    {
      "cell_type": "markdown",
      "source": [
        "**Removing an element**"
      ],
      "metadata": {
        "id": "0K-1vyrTC40R"
      },
      "id": "0K-1vyrTC40R"
    },
    {
      "cell_type": "code",
      "source": [
        "# Tablets are discontinued.\n",
        "product_categories.remove(\"tablets\")\n",
        "print(product_categories)\n"
      ],
      "metadata": {
        "colab": {
          "base_uri": "https://localhost:8080/"
        },
        "id": "pF3S6559DG1O",
        "outputId": "348981f5-9a4c-40f4-cf14-2a99a6483056"
      },
      "id": "pF3S6559DG1O",
      "execution_count": 3,
      "outputs": [
        {
          "output_type": "stream",
          "name": "stdout",
          "text": [
            "{'phones', 'laptops', 'smartwatches'}\n"
          ]
        }
      ]
    },
    {
      "cell_type": "markdown",
      "source": [],
      "metadata": {
        "id": "KiyY4ae5Bssn"
      },
      "id": "KiyY4ae5Bssn"
    },
    {
      "cell_type": "markdown",
      "source": [
        "**Clear the set**"
      ],
      "metadata": {
        "id": "EpTaLbtADYKM"
      },
      "id": "EpTaLbtADYKM"
    },
    {
      "cell_type": "code",
      "source": [
        "# You want to reset the list of product categories.\n",
        "product_categories.clear()\n",
        "print(product_categories)\n"
      ],
      "metadata": {
        "colab": {
          "base_uri": "https://localhost:8080/"
        },
        "id": "lrwQBks6DdR2",
        "outputId": "e18514b9-87d4-4936-8c6f-1aea6efc733d"
      },
      "id": "lrwQBks6DdR2",
      "execution_count": 4,
      "outputs": [
        {
          "output_type": "stream",
          "name": "stdout",
          "text": [
            "set()\n"
          ]
        }
      ]
    },
    {
      "cell_type": "markdown",
      "source": [
        "**Copy the set**"
      ],
      "metadata": {
        "id": "-ZR_VxgGDqk-"
      },
      "id": "-ZR_VxgGDqk-"
    },
    {
      "cell_type": "code",
      "source": [
        "# You want to create a backup of the product categories.\n",
        "backup_categories = product_categories.copy()\n",
        "print(backup_categories)\n"
      ],
      "metadata": {
        "colab": {
          "base_uri": "https://localhost:8080/"
        },
        "id": "c_ZwTbfkDs73",
        "outputId": "34a50af8-2c53-4d3a-c568-0b27aabfbba2"
      },
      "id": "c_ZwTbfkDs73",
      "execution_count": 5,
      "outputs": [
        {
          "output_type": "stream",
          "name": "stdout",
          "text": [
            "set()\n"
          ]
        }
      ]
    },
    {
      "cell_type": "markdown",
      "source": [
        "**Pop an element**"
      ],
      "metadata": {
        "id": "1wvDDZP5EBH7"
      },
      "id": "1wvDDZP5EBH7"
    },
    {
      "cell_type": "code",
      "source": [
        "# You randomly remove a category.\n",
        "product_categories = {\"laptops\", \"phones\", \"tablets\"}  # Make sure the set is not empty\n",
        "removed_item = product_categories.pop()\n",
        "print(removed_item)\n",
        "\n"
      ],
      "metadata": {
        "colab": {
          "base_uri": "https://localhost:8080/"
        },
        "id": "7IO19W0eEDr7",
        "outputId": "d6fd8820-95c2-44c2-9b70-084d51621247"
      },
      "id": "7IO19W0eEDr7",
      "execution_count": 8,
      "outputs": [
        {
          "output_type": "stream",
          "name": "stdout",
          "text": [
            "phones\n"
          ]
        }
      ]
    },
    {
      "cell_type": "markdown",
      "source": [
        "**Update a set with multiple elements**"
      ],
      "metadata": {
        "id": "POWYkSh5H4bQ"
      },
      "id": "POWYkSh5H4bQ"
    },
    {
      "cell_type": "code",
      "source": [
        "# You add multiple new categories like Cameras and Headphones.\n",
        "\n",
        "product_categories.update([\"cameras\", \"headphones\"])\n",
        "print(product_categories)"
      ],
      "metadata": {
        "colab": {
          "base_uri": "https://localhost:8080/"
        },
        "id": "LhhFH38eH7BQ",
        "outputId": "ae439fe6-3ea3-49c5-e36f-27fedf537e22"
      },
      "id": "LhhFH38eH7BQ",
      "execution_count": 9,
      "outputs": [
        {
          "output_type": "stream",
          "name": "stdout",
          "text": [
            "{'headphones', 'cameras', 'tablets', 'laptops'}\n"
          ]
        }
      ]
    },
    {
      "cell_type": "markdown",
      "source": [
        "**4. Set Operations**"
      ],
      "metadata": {
        "id": "bHXkbOUiIHM6"
      },
      "id": "bHXkbOUiIHM6"
    },
    {
      "cell_type": "markdown",
      "source": [
        "\n",
        "\n",
        "*  Now let's perform some operations as you compare the current stock with another store's stock.\n",
        "\n",
        "\n"
      ],
      "metadata": {
        "id": "qVKsrf1IIdkV"
      },
      "id": "qVKsrf1IIdkV"
    },
    {
      "cell_type": "markdown",
      "source": [
        "**Union**"
      ],
      "metadata": {
        "id": "MSk-ZDjDIivg"
      },
      "id": "MSk-ZDjDIivg"
    },
    {
      "cell_type": "code",
      "source": [
        "# You want to see all unique categories both stores offer.\n",
        "\n",
        "other_store = {\"tablets\", \"headphones\", \"monitors\"}\n",
        "all_categories = product_categories.union(other_store)\n",
        "print(all_categories)\n"
      ],
      "metadata": {
        "colab": {
          "base_uri": "https://localhost:8080/"
        },
        "id": "GLdVRNy3ImqQ",
        "outputId": "c017934a-1fc3-4959-98a5-89b40f4ea4b7"
      },
      "id": "GLdVRNy3ImqQ",
      "execution_count": 10,
      "outputs": [
        {
          "output_type": "stream",
          "name": "stdout",
          "text": [
            "{'monitors', 'cameras', 'tablets', 'headphones', 'laptops'}\n"
          ]
        }
      ]
    },
    {
      "cell_type": "markdown",
      "source": [
        "**Difference**"
      ],
      "metadata": {
        "id": "Qc4wNTvjI3NR"
      },
      "id": "Qc4wNTvjI3NR"
    },
    {
      "cell_type": "code",
      "source": [
        "# You want to know what categories are unique to your store.\n",
        "\n",
        "exclusive_categories = product_categories.difference(other_store)\n",
        "print(exclusive_categories)\n"
      ],
      "metadata": {
        "colab": {
          "base_uri": "https://localhost:8080/"
        },
        "id": "9z0q0FUcI7XC",
        "outputId": "f3e9feca-81e1-4219-86ac-ae2c962be8b3"
      },
      "id": "9z0q0FUcI7XC",
      "execution_count": 11,
      "outputs": [
        {
          "output_type": "stream",
          "name": "stdout",
          "text": [
            "{'cameras', 'laptops'}\n"
          ]
        }
      ]
    },
    {
      "cell_type": "markdown",
      "source": [
        "**Difference Update**"
      ],
      "metadata": {
        "id": "BNNDF7JdJF0b"
      },
      "id": "BNNDF7JdJF0b"
    },
    {
      "cell_type": "code",
      "source": [
        "# You want to remove the categories that are also available in the other store.\n",
        "\n",
        "product_categories.difference_update(other_store)\n",
        "print(product_categories)\n"
      ],
      "metadata": {
        "colab": {
          "base_uri": "https://localhost:8080/"
        },
        "id": "L7MfKfWDJJqs",
        "outputId": "1980576d-bb5c-404c-d377-c0b7f6143875"
      },
      "id": "L7MfKfWDJJqs",
      "execution_count": 12,
      "outputs": [
        {
          "output_type": "stream",
          "name": "stdout",
          "text": [
            "{'cameras', 'laptops'}\n"
          ]
        }
      ]
    },
    {
      "cell_type": "markdown",
      "source": [
        "**Discard**"
      ],
      "metadata": {
        "id": "TjjT2kVYJZp0"
      },
      "id": "TjjT2kVYJZp0"
    },
    {
      "cell_type": "code",
      "source": [
        "# You want to remove Cameras, but don’t want an error if it’s not there.\n",
        "\n",
        "product_categories.discard(\"cameras\")\n",
        "print(product_categories)\n"
      ],
      "metadata": {
        "colab": {
          "base_uri": "https://localhost:8080/"
        },
        "id": "bs5dxn6YJgxd",
        "outputId": "cbefdbf5-2e59-4703-802c-50a467306397"
      },
      "id": "bs5dxn6YJgxd",
      "execution_count": 13,
      "outputs": [
        {
          "output_type": "stream",
          "name": "stdout",
          "text": [
            "{'laptops'}\n"
          ]
        }
      ]
    },
    {
      "cell_type": "markdown",
      "source": [
        "**Intersection**"
      ],
      "metadata": {
        "id": "kF-DHvSRJpfm"
      },
      "id": "kF-DHvSRJpfm"
    },
    {
      "cell_type": "code",
      "source": [
        "# You want to see what categories are sold by both stores.\n",
        "\n",
        "common_categories = product_categories.intersection(other_store)\n",
        "print(common_categories)\n"
      ],
      "metadata": {
        "colab": {
          "base_uri": "https://localhost:8080/"
        },
        "id": "tTl3o2m2JuFH",
        "outputId": "b4131f76-480b-4231-a272-63a2b872436b"
      },
      "id": "tTl3o2m2JuFH",
      "execution_count": 14,
      "outputs": [
        {
          "output_type": "stream",
          "name": "stdout",
          "text": [
            "set()\n"
          ]
        }
      ]
    },
    {
      "cell_type": "markdown",
      "source": [
        "**Intersection Update**"
      ],
      "metadata": {
        "id": "uqTqyULRJ8cz"
      },
      "id": "uqTqyULRJ8cz"
    },
    {
      "cell_type": "code",
      "source": [
        "# You want to keep only the common categories between the stores.\n",
        "\n",
        "product_categories.intersection_update(other_store)\n",
        "print(product_categories)\n"
      ],
      "metadata": {
        "colab": {
          "base_uri": "https://localhost:8080/"
        },
        "id": "j2v34fagJ-l_",
        "outputId": "d11f1e03-9e58-4b69-895f-bfe309e763b6"
      },
      "id": "j2v34fagJ-l_",
      "execution_count": 15,
      "outputs": [
        {
          "output_type": "stream",
          "name": "stdout",
          "text": [
            "set()\n"
          ]
        }
      ]
    },
    {
      "cell_type": "markdown",
      "source": [
        "**Is Disjoint**"
      ],
      "metadata": {
        "id": "RabNSzGtKET4"
      },
      "id": "RabNSzGtKET4"
    },
    {
      "cell_type": "code",
      "source": [
        "# You want to check if there are no common categories between the two stores.\n",
        "\n",
        "disjoint_check = product_categories.isdisjoint(other_store)\n",
        "print(disjoint_check)   # Returns True or False\n"
      ],
      "metadata": {
        "colab": {
          "base_uri": "https://localhost:8080/"
        },
        "id": "TioQY2I1KIvr",
        "outputId": "54e7ba82-d5d1-4cc0-fc65-efb2c38dc363"
      },
      "id": "TioQY2I1KIvr",
      "execution_count": 17,
      "outputs": [
        {
          "output_type": "stream",
          "name": "stdout",
          "text": [
            "True\n"
          ]
        }
      ]
    },
    {
      "cell_type": "markdown",
      "source": [
        "**Is Subset**"
      ],
      "metadata": {
        "id": "IRx1VaICKa_-"
      },
      "id": "IRx1VaICKa_-"
    },
    {
      "cell_type": "code",
      "source": [
        "# You want to see if your store's categories are completely available at the other store.\n",
        "\n",
        "subset_check = product_categories.issubset(other_store)\n",
        "print(subset_check)  # Returns True or False\n"
      ],
      "metadata": {
        "colab": {
          "base_uri": "https://localhost:8080/"
        },
        "id": "xU2uu9zTKgZs",
        "outputId": "c89cb44d-67a4-4902-fd47-ac2fce7e3820"
      },
      "id": "xU2uu9zTKgZs",
      "execution_count": 19,
      "outputs": [
        {
          "output_type": "stream",
          "name": "stdout",
          "text": [
            "True\n"
          ]
        }
      ]
    },
    {
      "cell_type": "markdown",
      "source": [
        "**Is Superset**"
      ],
      "metadata": {
        "id": "44rJdLqCKxXY"
      },
      "id": "44rJdLqCKxXY"
    },
    {
      "cell_type": "code",
      "source": [
        "# You want to check if your store has all the categories the other store has.\n",
        "\n",
        "superset_check = product_categories.issuperset(other_store)\n",
        "print(superset_check)  # Returns True or False"
      ],
      "metadata": {
        "colab": {
          "base_uri": "https://localhost:8080/"
        },
        "id": "7nMsJwuvK1yz",
        "outputId": "a6da34fe-b20b-4e40-c332-1b9aaf1db74c"
      },
      "id": "7nMsJwuvK1yz",
      "execution_count": 20,
      "outputs": [
        {
          "output_type": "stream",
          "name": "stdout",
          "text": [
            "False\n"
          ]
        }
      ]
    },
    {
      "cell_type": "markdown",
      "source": [
        "**Symmetric Difference**\n"
      ],
      "metadata": {
        "id": "-H_iIDXELHMV"
      },
      "id": "-H_iIDXELHMV"
    },
    {
      "cell_type": "code",
      "source": [
        "# You want to find the categories that are not common between the stores.\n",
        "\n",
        "diff_categories = product_categories.symmetric_difference(other_store)\n",
        "print(diff_categories)\n"
      ],
      "metadata": {
        "colab": {
          "base_uri": "https://localhost:8080/"
        },
        "id": "7w86PZ4DLNBs",
        "outputId": "1bdc292f-5c84-4602-aff3-1bd7172782a7"
      },
      "id": "7w86PZ4DLNBs",
      "execution_count": 21,
      "outputs": [
        {
          "output_type": "stream",
          "name": "stdout",
          "text": [
            "{'headphones', 'monitors', 'tablets'}\n"
          ]
        }
      ]
    },
    {
      "cell_type": "markdown",
      "source": [
        "**Symmetric Difference Update**"
      ],
      "metadata": {
        "id": "M524l71QLZs8"
      },
      "id": "M524l71QLZs8"
    },
    {
      "cell_type": "code",
      "source": [
        "# You want to keep only the unique categories that aren’t common in both stores.\n",
        "\n",
        "product_categories.symmetric_difference_update(other_store)\n",
        "print(product_categories)\n"
      ],
      "metadata": {
        "colab": {
          "base_uri": "https://localhost:8080/"
        },
        "id": "V46grmkkLb34",
        "outputId": "a0628eca-d0ca-4c49-9ffc-432df58fd55a"
      },
      "id": "V46grmkkLb34",
      "execution_count": 22,
      "outputs": [
        {
          "output_type": "stream",
          "name": "stdout",
          "text": [
            "{'tablets', 'monitors', 'headphones'}\n"
          ]
        }
      ]
    },
    {
      "cell_type": "markdown",
      "source": [],
      "metadata": {
        "id": "Oa38qpK9K--a"
      },
      "id": "Oa38qpK9K--a"
    }
  ],
  "metadata": {
    "kernelspec": {
      "display_name": "Python 3 (ipykernel)",
      "language": "python",
      "name": "python3"
    },
    "language_info": {
      "codemirror_mode": {
        "name": "ipython",
        "version": 3
      },
      "file_extension": ".py",
      "mimetype": "text/x-python",
      "name": "python",
      "nbconvert_exporter": "python",
      "pygments_lexer": "ipython3",
      "version": "3.11.7"
    },
    "colab": {
      "provenance": []
    }
  },
  "nbformat": 4,
  "nbformat_minor": 5
}