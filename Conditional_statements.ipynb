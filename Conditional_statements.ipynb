{
  "nbformat": 4,
  "nbformat_minor": 0,
  "metadata": {
    "colab": {
      "provenance": []
    },
    "kernelspec": {
      "name": "python3",
      "display_name": "Python 3"
    },
    "language_info": {
      "name": "python"
    }
  },
  "cells": [
    {
      "cell_type": "markdown",
      "source": [
        "# **Conditional Statements**"
      ],
      "metadata": {
        "id": "4ZHbqjajmsDR"
      }
    },
    {
      "cell_type": "markdown",
      "source": [
        "\n",
        "\n",
        "*   Conditional statements in Python allow you to make decisions based on certain conditions in the program.\n",
        "*   These conditions evaluate to either True or False and determine which block of code will be executed.\n",
        "\n",
        "*   They are vital in any application where decisions need to be made dynamically, such as handling user input, responding to events, or processing data.\n",
        "\n",
        "\n",
        "\n",
        "\n"
      ],
      "metadata": {
        "id": "c_WBnDrdm6WC"
      }
    },
    {
      "cell_type": "markdown",
      "source": [
        "**Types of Conditional Statements in Python**"
      ],
      "metadata": {
        "id": "SzrxqEqHoBXk"
      }
    },
    {
      "cell_type": "markdown",
      "source": [
        "**1. if Conditional Statement in Python**"
      ],
      "metadata": {
        "id": "lBWgxLF_oeUH"
      }
    },
    {
      "cell_type": "markdown",
      "source": [
        "\n",
        "\n",
        "*   The if statement evaluates a condition, and if the condition is True, the corresponding block of code is executed.\n",
        "\n",
        "\n"
      ],
      "metadata": {
        "id": "Qk84f1_YojrW"
      }
    },
    {
      "cell_type": "code",
      "source": [
        "''' You work as a Python Developer at IT Debuggers, responsible for managing employee attendance.\n",
        "Based on daily check-ins, you need to record if an employee has arrived on time. '''\n",
        "\n",
        "arrival_time = 8  # Employee arrives at 8 AM\n",
        "if arrival_time <= 9:\n",
        "    print(\"Employee arrived on time.\")\n"
      ],
      "metadata": {
        "colab": {
          "base_uri": "https://localhost:8080/"
        },
        "id": "Wu7kHIRLo_TB",
        "outputId": "108592d2-8a85-4132-9046-be110bce4f5f"
      },
      "execution_count": 3,
      "outputs": [
        {
          "output_type": "stream",
          "name": "stdout",
          "text": [
            "Employee arrived on time.\n"
          ]
        }
      ]
    },
    {
      "cell_type": "markdown",
      "source": [
        "**2. if-else Conditional Statement in Python**"
      ],
      "metadata": {
        "id": "H1i_HiBFpTIG"
      }
    },
    {
      "cell_type": "markdown",
      "source": [
        "\n",
        "\n",
        "*   The if-else statement allows you to define an alternative block of code if the condition evaluates to False.\n",
        "\n",
        "\n"
      ],
      "metadata": {
        "id": "O8QzwEbvpXF8"
      }
    },
    {
      "cell_type": "code",
      "source": [
        "''' As part of your role at IT Debuggers, you are tasked with determining if a product has passed quality control testing.\n",
        "If the product score is 70 or above, it passes; otherwise, it fails. '''\n",
        "\n",
        "product_score = 65  # Out of 100\n",
        "if product_score >= 70:\n",
        "    print(\"Product has passed quality control.\")\n",
        "else:\n",
        "    print(\"Product has failed quality control.\")\n"
      ],
      "metadata": {
        "colab": {
          "base_uri": "https://localhost:8080/"
        },
        "id": "Gsm0ZMIBplbQ",
        "outputId": "94e32a67-b956-4d7e-bbba-f8aa26026bd3"
      },
      "execution_count": 4,
      "outputs": [
        {
          "output_type": "stream",
          "name": "stdout",
          "text": [
            "Product has failed quality control.\n"
          ]
        }
      ]
    },
    {
      "cell_type": "markdown",
      "source": [
        "**3. Nested if-else Conditional Statement in Python**"
      ],
      "metadata": {
        "id": "nkF5xPfAqGB7"
      }
    },
    {
      "cell_type": "markdown",
      "source": [
        "\n",
        "\n",
        "*   A nested if-else statement allows you to have conditions within other conditions.\n",
        "\n",
        "\n"
      ],
      "metadata": {
        "id": "IMEmpOvKqMyN"
      }
    },
    {
      "cell_type": "code",
      "source": [
        "''' You are working on a security system for your office. Access to restricted areas depends on two conditions: the employee’s role and whether they have passed a security check.\n",
        "If the role is \"Manager\" and the security check is passed, access is granted; otherwise, it's denied. '''\n",
        "\n",
        "role = \"Manager\"\n",
        "security_check = True\n",
        "\n",
        "if role == \"Manager\":\n",
        "    if security_check:\n",
        "        print(\"Access granted.\")\n",
        "    else:\n",
        "        print(\"Security check failed. Access denied.\")\n",
        "else:\n",
        "    print(\"Access denied. Only managers are allowed.\")\n"
      ],
      "metadata": {
        "colab": {
          "base_uri": "https://localhost:8080/"
        },
        "id": "V-c3Q3iuqHzW",
        "outputId": "a47ff5aa-03c8-48b0-93d9-74b1ebe45bba"
      },
      "execution_count": 5,
      "outputs": [
        {
          "output_type": "stream",
          "name": "stdout",
          "text": [
            "Access granted.\n"
          ]
        }
      ]
    },
    {
      "cell_type": "markdown",
      "source": [
        "**4. if-elif-else Conditional Statement in Python**"
      ],
      "metadata": {
        "id": "PfJh9LR1qhfV"
      }
    },
    {
      "cell_type": "markdown",
      "source": [
        "\n",
        "\n",
        "*   The if-elif-else structure is used to evaluate multiple conditions in a sequence. If the first condition is false, the next condition (elif) is evaluated.\n",
        "\n",
        "\n",
        "\n",
        "\n"
      ],
      "metadata": {
        "id": "qlMP0FJYqojA"
      }
    },
    {
      "cell_type": "code",
      "source": [
        " ''' You’re responsible for categorizing customer feedback in an e-commerce application at IT Debuggers. Based on the feedback rating:\n",
        " If the rating is above 8, the feedback is \"Excellent.\"\n",
        " If it’s between 5 and 8, the feedback is \"Good.\"\n",
        " If it's below 5, the feedback is \"Poor.\" '''\n",
        "\n",
        "rating = 6\n",
        "\n",
        "if rating > 8:\n",
        "    print(\"Feedback is Excellent.\")\n",
        "elif 5 <= rating <= 8:\n",
        "    print(\"Feedback is Good.\")\n",
        "else:\n",
        "    print(\"Feedback is Poor.\")\n"
      ],
      "metadata": {
        "colab": {
          "base_uri": "https://localhost:8080/"
        },
        "id": "Q4nWQX2BpVI2",
        "outputId": "f09e6e38-074f-45fe-8cdd-24624788adfa"
      },
      "execution_count": 6,
      "outputs": [
        {
          "output_type": "stream",
          "name": "stdout",
          "text": [
            "Feedback is Good.\n"
          ]
        }
      ]
    },
    {
      "cell_type": "markdown",
      "source": [
        "**5. Ternary Expression Conditional Statement in Python**"
      ],
      "metadata": {
        "id": "f2RRj4MmrDWu"
      }
    },
    {
      "cell_type": "markdown",
      "source": [
        "\n",
        "\n",
        "*  The ternary expression is a shorthand way of writing an if-else statement on a single line.\n",
        "\n",
        "\n"
      ],
      "metadata": {
        "id": "ItJlOSxHrFeW"
      }
    },
    {
      "cell_type": "code",
      "source": [
        "''' You're building a feature in your company’s HR system to determine whether employees are eligible for a performance bonus.\n",
        "If their performance score is greater than or equal to 80, they are eligible for a bonus; otherwise, they are not. '''\n",
        "\n",
        "performance_score = 75\n",
        "bonus_status = \"Eligible for bonus\" if performance_score >= 80 else \"Not eligible for bonus\"\n",
        "print(bonus_status)\n",
        "\n"
      ],
      "metadata": {
        "colab": {
          "base_uri": "https://localhost:8080/"
        },
        "id": "_3i_AnA0rLMd",
        "outputId": "2e24162e-cfeb-440e-abff-80c3f1abf741"
      },
      "execution_count": 9,
      "outputs": [
        {
          "output_type": "stream",
          "name": "stdout",
          "text": [
            "Not eligible for bonus\n"
          ]
        }
      ]
    }
  ]
}