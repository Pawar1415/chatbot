{
  "cells": [
    {
      "cell_type": "markdown",
      "id": "da95b2b1-a1d7-4260-890d-8e3b26144568",
      "metadata": {
        "id": "da95b2b1-a1d7-4260-890d-8e3b26144568"
      },
      "source": [
        "# **Data Types - Dictionary**"
      ]
    },
    {
      "cell_type": "markdown",
      "id": "9d6bf333-a0d9-47f7-bf79-c30643eac8e1",
      "metadata": {
        "id": "9d6bf333-a0d9-47f7-bf79-c30643eac8e1"
      },
      "source": [
        "**About Dictionary**"
      ]
    },
    {
      "cell_type": "markdown",
      "id": "994ad9b2-d629-47f4-bdee-7603da726302",
      "metadata": {
        "id": "994ad9b2-d629-47f4-bdee-7603da726302"
      },
      "source": [
        "*  Dictionaries are used to store data values in key:value pairs.\n",
        "*  A dictionary is a collection which is ordered, changeable and do not allow duplicates.\n",
        "*  Dictionaries are written with curly brackets, and have keys and values.\n",
        "\n",
        "\n",
        "\n"
      ]
    },
    {
      "cell_type": "markdown",
      "id": "9b368b15-2935-4f23-9a83-24229db42abc",
      "metadata": {
        "id": "9b368b15-2935-4f23-9a83-24229db42abc"
      },
      "source": [
        "**1. Creating a Dictionary**"
      ]
    },
    {
      "cell_type": "markdown",
      "source": [
        "\n",
        "\n",
        "* You start by creating a dictionary to hold the employee data.\n",
        "\n",
        "\n"
      ],
      "metadata": {
        "id": "65XhWx5aPXwx"
      },
      "id": "65XhWx5aPXwx"
    },
    {
      "cell_type": "code",
      "execution_count": null,
      "id": "a969d51e-8898-4f83-a88b-f8191f4dcbac",
      "metadata": {
        "colab": {
          "base_uri": "https://localhost:8080/"
        },
        "id": "a969d51e-8898-4f83-a88b-f8191f4dcbac",
        "outputId": "a498b64a-96a7-4c68-c61d-a3d7d2fcf1b0"
      },
      "outputs": [
        {
          "output_type": "stream",
          "name": "stdout",
          "text": [
            "{'Alice': {'ID': 101, 'Position': 'Software Engineer'}, 'Bob': {'ID': 102, 'Position': 'Data Scientist'}, 'Charlie': {'ID': 103, 'Position': 'Product Manager'}}\n"
          ]
        }
      ],
      "source": [
        "# Creating a dictionary\n",
        "employee_directory = {\n",
        "    \"Alice\": {\"ID\": 101, \"Position\": \"Software Engineer\"},\n",
        "    \"Bob\": {\"ID\": 102, \"Position\": \"Data Scientist\"},\n",
        "    \"Charlie\": {\"ID\": 103, \"Position\": \"Product Manager\"}\n",
        "}\n",
        "print(employee_directory)"
      ]
    },
    {
      "cell_type": "markdown",
      "id": "ea1c2203-87e8-4397-afa4-1e6699a3cdd7",
      "metadata": {
        "id": "ea1c2203-87e8-4397-afa4-1e6699a3cdd7"
      },
      "source": [
        "**2. Accessing Values**"
      ]
    },
    {
      "cell_type": "markdown",
      "source": [
        "\n",
        "\n",
        "*   To access specific information, you can use indexing.\n",
        "\n",
        "\n"
      ],
      "metadata": {
        "id": "nXPbs3U5RW-F"
      },
      "id": "nXPbs3U5RW-F"
    },
    {
      "cell_type": "code",
      "execution_count": null,
      "id": "f5eba5e3-72bb-4340-9961-6fc224a97061",
      "metadata": {
        "colab": {
          "base_uri": "https://localhost:8080/"
        },
        "id": "f5eba5e3-72bb-4340-9961-6fc224a97061",
        "outputId": "75d73d0f-aaf3-44a4-eee2-871f715c04f5"
      },
      "outputs": [
        {
          "output_type": "stream",
          "name": "stdout",
          "text": [
            "Data Scientist\n"
          ]
        }
      ],
      "source": [
        "# Accessing the position of Bob\n",
        "bob_position = employee_directory[\"Bob\"][\"Position\"]  # Output: \"Data Scientist\"\n",
        "print(bob_position )"
      ]
    },
    {
      "cell_type": "markdown",
      "id": "44daa3fa-87a4-467b-be30-a254b09311dc",
      "metadata": {
        "id": "44daa3fa-87a4-467b-be30-a254b09311dc"
      },
      "source": [
        "**3. Manipulating the Dictionary**"
      ]
    },
    {
      "cell_type": "markdown",
      "source": [
        "\n",
        "\n",
        "*   Now, let's explore various dictionary methods to manipulate your employee directory.\n",
        "\n",
        "\n"
      ],
      "metadata": {
        "id": "ZwaJcDPaRlab"
      },
      "id": "ZwaJcDPaRlab"
    },
    {
      "cell_type": "markdown",
      "source": [
        "**Using dict() to create a dictionary:**"
      ],
      "metadata": {
        "id": "ojl_bHifRw7h"
      },
      "id": "ojl_bHifRw7h"
    },
    {
      "cell_type": "code",
      "execution_count": null,
      "id": "3c327739-c1c4-4321-a7ab-736fda98c277",
      "metadata": {
        "colab": {
          "base_uri": "https://localhost:8080/"
        },
        "id": "3c327739-c1c4-4321-a7ab-736fda98c277",
        "outputId": "8fff72a5-bd59-4c06-b9d4-36867766bae4"
      },
      "outputs": [
        {
          "output_type": "stream",
          "name": "stdout",
          "text": [
            "{'Name': 'David', 'ID': 104, 'Position': 'UX Designer'}\n"
          ]
        }
      ],
      "source": [
        "# Creating a new dictionary using dict()\n",
        "new_employee = dict(Name=\"David\", ID=104, Position=\"UX Designer\")\n",
        "print(new_employee)"
      ]
    },
    {
      "cell_type": "markdown",
      "id": "c49f00a4-6cdc-4086-b5d2-d0e333cdffdb",
      "metadata": {
        "id": "c49f00a4-6cdc-4086-b5d2-d0e333cdffdb"
      },
      "source": [
        "**Using dict.clear() to remove all entries:**"
      ]
    },
    {
      "cell_type": "code",
      "execution_count": null,
      "id": "005af34b-ec15-4352-98d0-ca971a0d8a42",
      "metadata": {
        "colab": {
          "base_uri": "https://localhost:8080/"
        },
        "id": "005af34b-ec15-4352-98d0-ca971a0d8a42",
        "outputId": "584363a9-5b7a-418e-86f9-ac924d169a93"
      },
      "outputs": [
        {
          "output_type": "stream",
          "name": "stdout",
          "text": [
            "{}\n"
          ]
        }
      ],
      "source": [
        "# Clearing the employee directory\n",
        "employee_directory.clear()   # Now employee_directory is {}\n",
        "print(employee_directory)"
      ]
    },
    {
      "cell_type": "markdown",
      "id": "66d23f6e-f381-4f1f-8025-6e26deeae483",
      "metadata": {
        "id": "66d23f6e-f381-4f1f-8025-6e26deeae483"
      },
      "source": [
        "**Using dict.copy() to create a copy of the directory:**"
      ]
    },
    {
      "cell_type": "code",
      "source": [
        "# Copying the employee directory\n",
        "employee_copy = employee_directory.copy()  # A new copy of the empty directory\n",
        "print(employee_copy)"
      ],
      "metadata": {
        "colab": {
          "base_uri": "https://localhost:8080/"
        },
        "id": "BcCjMChyS2h2",
        "outputId": "b9b61a28-7606-4ca5-e37c-82da2a127662"
      },
      "id": "BcCjMChyS2h2",
      "execution_count": null,
      "outputs": [
        {
          "output_type": "stream",
          "name": "stdout",
          "text": [
            "{}\n"
          ]
        }
      ]
    },
    {
      "cell_type": "markdown",
      "source": [
        "**Using dict.get(key, default) to access a value safely:**"
      ],
      "metadata": {
        "id": "GrijnAJPS_u3"
      },
      "id": "GrijnAJPS_u3"
    },
    {
      "cell_type": "code",
      "execution_count": null,
      "id": "7adbbee2-6fd2-40af-9967-b955c177e276",
      "metadata": {
        "colab": {
          "base_uri": "https://localhost:8080/"
        },
        "id": "7adbbee2-6fd2-40af-9967-b955c177e276",
        "outputId": "24b41589-4ffc-4465-a3f5-8ed526bddebd"
      },
      "outputs": [
        {
          "output_type": "stream",
          "name": "stdout",
          "text": [
            "Not Found\n"
          ]
        }
      ],
      "source": [
        "# Getting the position of an employee, with a default if not found\n",
        "unknown_position = employee_directory.get(\"Unknown\", \"Not Found\")\n",
        "print(unknown_position)"
      ]
    },
    {
      "cell_type": "markdown",
      "id": "e6f45cca-6feb-48cc-9e5d-418cb20ec6a3",
      "metadata": {
        "id": "e6f45cca-6feb-48cc-9e5d-418cb20ec6a3"
      },
      "source": [
        "**Using dict.items() to view key-value pairs:**"
      ]
    },
    {
      "cell_type": "code",
      "execution_count": null,
      "id": "d92cbfda-ffdc-43dd-a85c-b5929c9d3e2e",
      "metadata": {
        "colab": {
          "base_uri": "https://localhost:8080/"
        },
        "id": "d92cbfda-ffdc-43dd-a85c-b5929c9d3e2e",
        "outputId": "6570de57-564d-4a5a-f0df-90b88131f026"
      },
      "outputs": [
        {
          "output_type": "stream",
          "name": "stdout",
          "text": [
            "dict_items([])\n"
          ]
        }
      ],
      "source": [
        "# Viewing items in the employee directory\n",
        "items = employee_directory.items()\n",
        "print(items)"
      ]
    },
    {
      "cell_type": "markdown",
      "id": "9de7120f-0645-4056-8913-a6126497b838",
      "metadata": {
        "id": "9de7120f-0645-4056-8913-a6126497b838"
      },
      "source": [
        "**Using dict.keys() to get all keys:**"
      ]
    },
    {
      "cell_type": "code",
      "source": [
        "# Getting all employee names (keys)\n",
        "employee_names = employee_directory.keys()\n",
        "print(employee_names)"
      ],
      "metadata": {
        "colab": {
          "base_uri": "https://localhost:8080/"
        },
        "id": "eHlTANRtTpk1",
        "outputId": "fcf05c90-3cb6-4b6b-c923-470af581336d"
      },
      "id": "eHlTANRtTpk1",
      "execution_count": null,
      "outputs": [
        {
          "output_type": "stream",
          "name": "stdout",
          "text": [
            "dict_keys([])\n"
          ]
        }
      ]
    },
    {
      "cell_type": "markdown",
      "source": [
        "**Using dict.update(dict2) to add another employee:**"
      ],
      "metadata": {
        "id": "CTnHXchcTvY1"
      },
      "id": "CTnHXchcTvY1"
    },
    {
      "cell_type": "code",
      "source": [
        "# Updating with new employee data\n",
        "new_employee_data = {\"David\": {\"ID\": 104, \"Position\": \"UX Designer\"}}\n",
        "employee_directory.update(new_employee_data)  # Adds David to the directory\n",
        "print(employee_directory)"
      ],
      "metadata": {
        "colab": {
          "base_uri": "https://localhost:8080/"
        },
        "id": "EuDfAuP6Tywl",
        "outputId": "de85aebd-28af-492d-f000-bf0259dd1e58"
      },
      "id": "EuDfAuP6Tywl",
      "execution_count": null,
      "outputs": [
        {
          "output_type": "stream",
          "name": "stdout",
          "text": [
            "{'David': {'ID': 104, 'Position': 'UX Designer'}}\n"
          ]
        }
      ]
    },
    {
      "cell_type": "markdown",
      "source": [
        "**Using dict.values() to get all values:**"
      ],
      "metadata": {
        "id": "Bj_6dGVhT6lk"
      },
      "id": "Bj_6dGVhT6lk"
    },
    {
      "cell_type": "code",
      "source": [
        "# Getting all employee details (values)\n",
        "employee_details = employee_directory.values()\n",
        "print(employee_details)"
      ],
      "metadata": {
        "colab": {
          "base_uri": "https://localhost:8080/"
        },
        "id": "zJWBy9mHT8aM",
        "outputId": "5fec7a78-b5c0-452b-aa04-51712da1efb1"
      },
      "id": "zJWBy9mHT8aM",
      "execution_count": null,
      "outputs": [
        {
          "output_type": "stream",
          "name": "stdout",
          "text": [
            "dict_values([{'ID': 104, 'Position': 'UX Designer'}])\n"
          ]
        }
      ]
    },
    {
      "cell_type": "markdown",
      "source": [
        "**Using pop(key) to remove a specific entry:**"
      ],
      "metadata": {
        "id": "wQkSmXI8UE60"
      },
      "id": "wQkSmXI8UE60"
    },
    {
      "cell_type": "code",
      "source": [
        "# Removing an employee by name\n",
        "removed_employee = employee_directory.pop(\"David\")  # Removes David's entry\n",
        "print(removed_employee)"
      ],
      "metadata": {
        "colab": {
          "base_uri": "https://localhost:8080/"
        },
        "id": "YCdMQ--GUHJs",
        "outputId": "5a8264b9-e528-427c-f592-b9e939b33e07"
      },
      "id": "YCdMQ--GUHJs",
      "execution_count": null,
      "outputs": [
        {
          "output_type": "stream",
          "name": "stdout",
          "text": [
            "{'ID': 104, 'Position': 'UX Designer'}\n"
          ]
        }
      ]
    },
    {
      "cell_type": "markdown",
      "source": [
        "**Using popitem() to remove the last added item:**"
      ],
      "metadata": {
        "id": "XeSnk7C5UMmc"
      },
      "id": "XeSnk7C5UMmc"
    },
    {
      "cell_type": "code",
      "source": [
        "# Adding another employee and then removing the last one added\n",
        "employee_directory[\"Eve\"] = {\"ID\": 105, \"Position\": \"DevOps Engineer\"}\n",
        "last_employee = employee_directory.popitem()  # Removes Eve's entry\n",
        "print(last_employee)"
      ],
      "metadata": {
        "colab": {
          "base_uri": "https://localhost:8080/"
        },
        "id": "_WRyvtNIUOFV",
        "outputId": "849c608a-5cdf-40e4-c845-0a79549d724d"
      },
      "id": "_WRyvtNIUOFV",
      "execution_count": 34,
      "outputs": [
        {
          "output_type": "stream",
          "name": "stdout",
          "text": [
            "('Eve', {'ID': 105, 'Position': 'DevOps Engineer'})\n"
          ]
        }
      ]
    },
    {
      "cell_type": "markdown",
      "source": [
        "**Using setdefault(key, default) to add if key is not present:**"
      ],
      "metadata": {
        "id": "-AtXzFi0URtc"
      },
      "id": "-AtXzFi0URtc"
    },
    {
      "cell_type": "code",
      "source": [
        "# Adding a new employee if not present\n",
        "employee_directory.setdefault(\"Frank\", {\"ID\": 106, \"Position\": \"System Administrator\"})\n",
        "print(employee_directory)"
      ],
      "metadata": {
        "colab": {
          "base_uri": "https://localhost:8080/"
        },
        "id": "Q4ENd8rbUXz2",
        "outputId": "83c57614-38c3-43ef-eab5-d8c234e841da"
      },
      "id": "Q4ENd8rbUXz2",
      "execution_count": 35,
      "outputs": [
        {
          "output_type": "stream",
          "name": "stdout",
          "text": [
            "{'Frank': {'ID': 106, 'Position': 'System Administrator'}}\n"
          ]
        }
      ]
    },
    {
      "cell_type": "markdown",
      "source": [
        "**Using has_key(key) to check if a key exists:**"
      ],
      "metadata": {
        "id": "SGM2IG5cUdy8"
      },
      "id": "SGM2IG5cUdy8"
    },
    {
      "cell_type": "code",
      "source": [
        "# Checking if Alice is in the directory (use `in` instead)\n",
        "exists = \"Alice\" in employee_directory\n",
        "print(exists)"
      ],
      "metadata": {
        "colab": {
          "base_uri": "https://localhost:8080/"
        },
        "id": "Fr5XYHhhUmQM",
        "outputId": "483e88f2-c702-447e-fbd3-ebe4b441141e"
      },
      "id": "Fr5XYHhhUmQM",
      "execution_count": null,
      "outputs": [
        {
          "output_type": "stream",
          "name": "stdout",
          "text": [
            "False\n"
          ]
        }
      ]
    }
  ],
  "metadata": {
    "kernelspec": {
      "display_name": "Python 3 (ipykernel)",
      "language": "python",
      "name": "python3"
    },
    "language_info": {
      "codemirror_mode": {
        "name": "ipython",
        "version": 3
      },
      "file_extension": ".py",
      "mimetype": "text/x-python",
      "name": "python",
      "nbconvert_exporter": "python",
      "pygments_lexer": "ipython3",
      "version": "3.11.7"
    },
    "colab": {
      "provenance": []
    }
  },
  "nbformat": 4,
  "nbformat_minor": 5
}