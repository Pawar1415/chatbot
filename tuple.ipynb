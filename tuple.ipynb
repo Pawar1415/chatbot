{
  "cells": [
    {
      "cell_type": "markdown",
      "id": "175c3b07-5c44-4d9e-b5b4-55359b8a5fb9",
      "metadata": {
        "id": "175c3b07-5c44-4d9e-b5b4-55359b8a5fb9"
      },
      "source": [
        "# **Data Types - Tuple**"
      ]
    },
    {
      "cell_type": "markdown",
      "id": "cbddc845-8d1f-4a44-a67d-83cf13dc149d",
      "metadata": {
        "id": "cbddc845-8d1f-4a44-a67d-83cf13dc149d"
      },
      "source": [
        "**About Tuple**"
      ]
    },
    {
      "cell_type": "markdown",
      "id": "c98fa84e-2c62-43b0-9ba4-628f4ac72cc9",
      "metadata": {
        "id": "c98fa84e-2c62-43b0-9ba4-628f4ac72cc9"
      },
      "source": [
        "*   Tuples are used to store multiple items in a single variable.\n",
        "*   Tuple is one of 4 built-in data types in Python used to store collections of data, the other 3 are List, Set, and Dictionary, all with different qualities and usage.\n",
        "*   A tuple is a collection which is ordered and unchangeable(immutable).\n",
        "* Tuples are written with round brackets.\n",
        "\n",
        "\n",
        "\n",
        "\n",
        "\n",
        "\n"
      ]
    },
    {
      "cell_type": "markdown",
      "id": "c296f853-64ba-4dc6-8900-79e4964f4c68",
      "metadata": {
        "id": "c296f853-64ba-4dc6-8900-79e4964f4c68"
      },
      "source": [
        "**Store**"
      ]
    },
    {
      "cell_type": "code",
      "execution_count": null,
      "id": "6b59d0a3-9485-4b86-85c0-cc210fe46ac1",
      "metadata": {
        "id": "6b59d0a3-9485-4b86-85c0-cc210fe46ac1"
      },
      "outputs": [],
      "source": [
        "#Creating Tuple\n",
        "tup1 = ( 'Tester', 'ITDebuggers', 1997, 2000)\n",
        "tup2 = (1, 2, 3, 4, 5 )\n",
        "tup3 = \"a\", \"b\", \"c\", \"d\"\n"
      ]
    },
    {
      "cell_type": "markdown",
      "id": "ce044b03-faa6-4a6c-8a5f-2fc86e28340e",
      "metadata": {
        "id": "ce044b03-faa6-4a6c-8a5f-2fc86e28340e"
      },
      "source": [
        "**Access**"
      ]
    },
    {
      "cell_type": "markdown",
      "id": "03961936-739d-43b7-908e-960adb001d10",
      "metadata": {
        "id": "03961936-739d-43b7-908e-960adb001d10"
      },
      "source": [
        "**Through Indexing**"
      ]
    },
    {
      "cell_type": "code",
      "execution_count": null,
      "id": "a7b42ada-ed59-49a7-b330-8810cee5a4ba",
      "metadata": {
        "id": "a7b42ada-ed59-49a7-b330-8810cee5a4ba",
        "outputId": "d7414797-cd2d-438d-b113-cfc5d3a15a33"
      },
      "outputs": [
        {
          "data": {
            "text/plain": [
              "'Developer'"
            ]
          },
          "execution_count": 17,
          "metadata": {},
          "output_type": "execute_result"
        }
      ],
      "source": [
        "tup1 = ( 'Developer', 'ITDebuggers', 1997, 2000)\n",
        "tup1[0]"
      ]
    },
    {
      "cell_type": "markdown",
      "id": "0cf4e289-113e-49e2-b4fd-0964c0e95902",
      "metadata": {
        "id": "0cf4e289-113e-49e2-b4fd-0964c0e95902"
      },
      "source": [
        "**Through Slicing**"
      ]
    },
    {
      "cell_type": "code",
      "execution_count": null,
      "id": "fba02ec8-5b70-47e7-9608-c86ca7d38a4c",
      "metadata": {
        "id": "fba02ec8-5b70-47e7-9608-c86ca7d38a4c",
        "outputId": "878d597f-6a47-457f-a55a-08338185495e"
      },
      "outputs": [
        {
          "data": {
            "text/plain": [
              "('Tester', 'Developer', 'ITDebuggers')"
            ]
          },
          "execution_count": 3,
          "metadata": {},
          "output_type": "execute_result"
        }
      ],
      "source": [
        "tup1=('Tester','Developer','ITDebuggers','software')\n",
        "tup1[0:3]"
      ]
    },
    {
      "cell_type": "code",
      "execution_count": null,
      "id": "c5449a3e",
      "metadata": {
        "id": "c5449a3e",
        "outputId": "b543bcf2-05a0-4cc4-93bc-14fa39040649"
      },
      "outputs": [
        {
          "data": {
            "text/plain": [
              "(6, 7, 9)"
            ]
          },
          "execution_count": 4,
          "metadata": {},
          "output_type": "execute_result"
        }
      ],
      "source": [
        "A=(4,5,6,7,9,7,8,5,7,25,7,6)\n",
        "A[2:5]"
      ]
    },
    {
      "cell_type": "code",
      "execution_count": null,
      "id": "c2f25c55",
      "metadata": {
        "id": "c2f25c55",
        "outputId": "9f8c975a-b5d5-427e-a873-52c5015fc522"
      },
      "outputs": [
        {
          "data": {
            "text/plain": [
              "(2000, 1997, 'ITDebuggers', 'Developer')"
            ]
          },
          "execution_count": 5,
          "metadata": {},
          "output_type": "execute_result"
        }
      ],
      "source": [
        "tup1 = ( 'Developer', 'ITDebuggers', 1997, 2000)\n",
        "\n",
        "tup1[::-1]  #reverse operation"
      ]
    },
    {
      "cell_type": "code",
      "execution_count": null,
      "id": "b6d83621",
      "metadata": {
        "id": "b6d83621",
        "outputId": "77ad5501-ced5-4298-c870-df88a4808437"
      },
      "outputs": [
        {
          "data": {
            "text/plain": [
              "(25, 7)"
            ]
          },
          "execution_count": 6,
          "metadata": {},
          "output_type": "execute_result"
        }
      ],
      "source": [
        "A=(4,5,6,7,9,7,8,5,7,25,7,6)  #Specify negative indexes if you want to start the search from the end of the list.\n",
        "\n",
        "A[-3:-1]"
      ]
    },
    {
      "cell_type": "markdown",
      "id": "e384f35e-2022-4788-9619-e151504724f0",
      "metadata": {
        "id": "e384f35e-2022-4788-9619-e151504724f0"
      },
      "source": [
        "**Manipulation**"
      ]
    },
    {
      "cell_type": "markdown",
      "id": "7e380a9c-326e-48c6-9952-0bcbd759f76c",
      "metadata": {
        "id": "7e380a9c-326e-48c6-9952-0bcbd759f76c"
      },
      "source": []
    },
    {
      "cell_type": "code",
      "execution_count": null,
      "id": "bab22bfe",
      "metadata": {
        "id": "bab22bfe",
        "outputId": "447663a4-1f2d-4ff3-b48d-02606e81751b"
      },
      "outputs": [
        {
          "name": "stdout",
          "output_type": "stream",
          "text": [
            "<class 'tuple'>\n"
          ]
        }
      ],
      "source": [
        "my_tuple=(\"ITDebuggers\",\"Backend\",\"Frontend\",\"Developer\")\n",
        "print(type(my_tuple))"
      ]
    },
    {
      "cell_type": "code",
      "execution_count": null,
      "id": "f41383e7",
      "metadata": {
        "id": "f41383e7",
        "outputId": "6afd6561-b418-4bf0-dd46-b5a32e835910"
      },
      "outputs": [
        {
          "data": {
            "text/plain": [
              "4"
            ]
          },
          "execution_count": 9,
          "metadata": {},
          "output_type": "execute_result"
        }
      ],
      "source": [
        "my_tuple=(\"Developer\",\"Software\",\"ITDebuggers\",\"Tester\")  # len Gives the total length of the tuple.\n",
        "len(my_tuple)\n"
      ]
    },
    {
      "cell_type": "code",
      "execution_count": null,
      "id": "45d217bc",
      "metadata": {
        "id": "45d217bc",
        "outputId": "6e37e9c6-49cd-47d2-bdd5-2bd9b7c25aa6"
      },
      "outputs": [
        {
          "name": "stdout",
          "output_type": "stream",
          "text": [
            "25\n",
            "4\n"
          ]
        }
      ],
      "source": [
        "A=(4,5,6,7,9,7,8,5,7,25,7,6)\n",
        "print(max(A))\n",
        "print(min(A))"
      ]
    },
    {
      "cell_type": "code",
      "execution_count": null,
      "id": "57eb6cdf",
      "metadata": {
        "id": "57eb6cdf",
        "outputId": "5c3ec331-8fb3-40be-e254-0506adb6ef06"
      },
      "outputs": [
        {
          "name": "stdout",
          "output_type": "stream",
          "text": [
            "<class 'tuple'>\n",
            "('Developer', 'Tester', 'ITDebuggers', 'ITDebuggers')\n"
          ]
        }
      ],
      "source": [
        "mytuple = (\"Developer\", \"Tester\", \"ITDebuggers\",\"ITDebuggers\")\n",
        "print(type(mytuple))\n",
        "print(mytuple)    # tuple allows duplicate for example index 2,3\n",
        "# But in set not allow duplicate for example\n",
        "\n",
        "#myset = set(\"Developer\", \"Tester\", \"ITDebuggers\",\"ITDebuggers\")\n"
      ]
    },
    {
      "cell_type": "markdown",
      "id": "d47112d8-2e68-4259-bb07-2fd3c044fc71",
      "metadata": {
        "id": "d47112d8-2e68-4259-bb07-2fd3c044fc71"
      },
      "source": [
        "**Tuple Methods**"
      ]
    },
    {
      "cell_type": "markdown",
      "id": "f6dda31c-03e3-4def-8458-05b8ccdf1ed1",
      "metadata": {
        "id": "f6dda31c-03e3-4def-8458-05b8ccdf1ed1"
      },
      "source": [
        "**1. count**"
      ]
    },
    {
      "cell_type": "code",
      "execution_count": null,
      "id": "30bf40d8-fb88-42c4-84fa-73e43a7c0009",
      "metadata": {
        "id": "30bf40d8-fb88-42c4-84fa-73e43a7c0009",
        "outputId": "b0155c54-01e1-4cf5-f377-d03efcf764f0"
      },
      "outputs": [
        {
          "name": "stdout",
          "output_type": "stream",
          "text": [
            "4\n"
          ]
        }
      ],
      "source": [
        "A=(4,5,6,7,9,7,8,5,7,25,7,6) #Returns count of how many times obj occurs in list\n",
        "\n",
        "print(A.count(7))\n"
      ]
    },
    {
      "cell_type": "markdown",
      "id": "fb11198d-2457-46f4-8c47-5e989641427f",
      "metadata": {
        "id": "fb11198d-2457-46f4-8c47-5e989641427f"
      },
      "source": [
        "**2. index**"
      ]
    },
    {
      "cell_type": "code",
      "execution_count": null,
      "id": "79369dd3-8452-4c61-bbbd-0fe9a09cd30a",
      "metadata": {
        "id": "79369dd3-8452-4c61-bbbd-0fe9a09cd30a",
        "outputId": "04f5112b-9c00-4b54-d337-8338e0848a2c"
      },
      "outputs": [
        {
          "name": "stdout",
          "output_type": "stream",
          "text": [
            "0\n"
          ]
        }
      ],
      "source": [
        "A=(4,5,6,7,9,7,8,5,7,25,7,6) # index in tuple that obj appears prefer  lowest index\n",
        "print(A.index(4))"
      ]
    }
  ],
  "metadata": {
    "kernelspec": {
      "display_name": "Python 3 (ipykernel)",
      "language": "python",
      "name": "python3"
    },
    "language_info": {
      "codemirror_mode": {
        "name": "ipython",
        "version": 3
      },
      "file_extension": ".py",
      "mimetype": "text/x-python",
      "name": "python",
      "nbconvert_exporter": "python",
      "pygments_lexer": "ipython3",
      "version": "3.12.5"
    },
    "colab": {
      "provenance": [],
      "collapsed_sections": [
        "cbddc845-8d1f-4a44-a67d-83cf13dc149d"
      ]
    }
  },
  "nbformat": 4,
  "nbformat_minor": 5
}