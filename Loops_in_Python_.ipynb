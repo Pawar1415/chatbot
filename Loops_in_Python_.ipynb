{
  "nbformat": 4,
  "nbformat_minor": 0,
  "metadata": {
    "colab": {
      "provenance": []
    },
    "kernelspec": {
      "name": "python3",
      "display_name": "Python 3"
    },
    "language_info": {
      "name": "python"
    }
  },
  "cells": [
    {
      "cell_type": "markdown",
      "source": [
        "# **Loops in Python**"
      ],
      "metadata": {
        "id": "jPlVmSwUu3Zb"
      }
    },
    {
      "cell_type": "markdown",
      "source": [
        "\n",
        "\n",
        "*  Loops are used in programming to repeatedly execute a block of code as long as a specific condition is met or until a predefined number of iterations.\n",
        "*  They help reduce redundancy and automate repetitive tasks.\n",
        "\n"
      ],
      "metadata": {
        "id": "1i6Fm_X2vAhE"
      }
    },
    {
      "cell_type": "markdown",
      "source": [
        "**Types of Loops in Python:**"
      ],
      "metadata": {
        "id": "DKdwcAQsvJFz"
      }
    },
    {
      "cell_type": "markdown",
      "source": [
        "**1. while Loop in Python**"
      ],
      "metadata": {
        "id": "C4SxVSv1vZvj"
      }
    },
    {
      "cell_type": "markdown",
      "source": [
        "\n",
        "\n",
        "*   A while loop repeatedly executes a block of code as long as a condition remains true.\n",
        "\n",
        "\n"
      ],
      "metadata": {
        "id": "xjKGNV1OvgOL"
      }
    },
    {
      "cell_type": "code",
      "source": [
        "''' At IT Debuggers, you need to monitor the server status every minute.\n",
        "   The loop should run as long as the server is online.  '''\n",
        "\n",
        "server_status = \"Online\"\n",
        "time_checked = 0\n",
        "\n",
        "while server_status == \"Online\" and time_checked < 10:\n",
        "    print(f\"Checking server... ({time_checked+1} minute)\")\n",
        "    time_checked += 1\n"
      ],
      "metadata": {
        "colab": {
          "base_uri": "https://localhost:8080/"
        },
        "id": "PWH8Zwf2vtYU",
        "outputId": "e0309ea1-d3de-453e-b520-cf22e7903af3"
      },
      "execution_count": 1,
      "outputs": [
        {
          "output_type": "stream",
          "name": "stdout",
          "text": [
            "Checking server... (1 minute)\n",
            "Checking server... (2 minute)\n",
            "Checking server... (3 minute)\n",
            "Checking server... (4 minute)\n",
            "Checking server... (5 minute)\n",
            "Checking server... (6 minute)\n",
            "Checking server... (7 minute)\n",
            "Checking server... (8 minute)\n",
            "Checking server... (9 minute)\n",
            "Checking server... (10 minute)\n"
          ]
        }
      ]
    },
    {
      "cell_type": "markdown",
      "source": [
        "**2. for Loop in Python**"
      ],
      "metadata": {
        "id": "hd9C-sqlwDUj"
      }
    },
    {
      "cell_type": "markdown",
      "source": [
        "\n",
        "\n",
        "*   The for loop is used to iterate over a sequence (like lists, tuples, strings, or ranges) and execute a block of code for each item.\n",
        "\n",
        "\n"
      ],
      "metadata": {
        "id": "CTWzAVDqwI41"
      }
    },
    {
      "cell_type": "code",
      "source": [
        "''' As part of your daily tasks at IT Debuggers, you need to send out a report to multiple clients.\n",
        "  Each client’s email address is stored in a list, and you want to send a customized message to each. '''\n",
        "\n",
        "clients = [\"client1@example.com\", \"client2@example.com\", \"client3@example.com\"]\n",
        "\n",
        "for client in clients:\n",
        "    print(f\"Sending report to {client}...\")\n"
      ],
      "metadata": {
        "colab": {
          "base_uri": "https://localhost:8080/"
        },
        "id": "eJ2JcCz8wFOi",
        "outputId": "d42b2527-5157-4204-9675-044ce9e02ba8"
      },
      "execution_count": 2,
      "outputs": [
        {
          "output_type": "stream",
          "name": "stdout",
          "text": [
            "Sending report to client1@example.com...\n",
            "Sending report to client2@example.com...\n",
            "Sending report to client3@example.com...\n"
          ]
        }
      ]
    },
    {
      "cell_type": "markdown",
      "source": [
        "**Nested Loops in Python**"
      ],
      "metadata": {
        "id": "_uxlRZZAwqkx"
      }
    },
    {
      "cell_type": "markdown",
      "source": [
        "\n",
        "\n",
        "*   A nested loop is a loop inside another loop. This is useful when you need to perform repetitive actions on two or more sequences or conditions.\n",
        "\n",
        "\n"
      ],
      "metadata": {
        "id": "pzvV7PpWwuRL"
      }
    },
    {
      "cell_type": "code",
      "source": [
        "''' You work in the IT department, and you’re writing a program that tests various combinations of software and hardware configurations.\n",
        "  You need to test every hardware with every software version. '''\n",
        "\n",
        "hardware_versions = [\"v1\", \"v2\", \"v3\"]\n",
        "software_versions = [\"1.0\", \"2.0\", \"3.0\"]\n",
        "\n",
        "for hardware in hardware_versions:\n",
        "    for software in software_versions:\n",
        "        print(f\"Testing hardware {hardware} with software version {software}...\")\n"
      ],
      "metadata": {
        "colab": {
          "base_uri": "https://localhost:8080/"
        },
        "id": "Xxz5naBhw1ml",
        "outputId": "0fd83cf8-b8b5-4d54-dbd3-6334b10feb92"
      },
      "execution_count": 3,
      "outputs": [
        {
          "output_type": "stream",
          "name": "stdout",
          "text": [
            "Testing hardware v1 with software version 1.0...\n",
            "Testing hardware v1 with software version 2.0...\n",
            "Testing hardware v1 with software version 3.0...\n",
            "Testing hardware v2 with software version 1.0...\n",
            "Testing hardware v2 with software version 2.0...\n",
            "Testing hardware v2 with software version 3.0...\n",
            "Testing hardware v3 with software version 1.0...\n",
            "Testing hardware v3 with software version 2.0...\n",
            "Testing hardware v3 with software version 3.0...\n"
          ]
        }
      ]
    },
    {
      "cell_type": "markdown",
      "source": [
        "**Loop Control Statements in Python**"
      ],
      "metadata": {
        "id": "wRCD_O7mxFTO"
      }
    },
    {
      "cell_type": "markdown",
      "source": [
        "\n",
        "\n",
        "*   These statements change the flow of a loop. The three main loop control statements are continue, break, and pass.\n",
        "\n",
        "\n"
      ],
      "metadata": {
        "id": "a936o-dnxJcK"
      }
    },
    {
      "cell_type": "markdown",
      "source": [
        "**a. continue Statement**"
      ],
      "metadata": {
        "id": "7MyoMP3IxOiS"
      }
    },
    {
      "cell_type": "markdown",
      "source": [
        "\n",
        "\n",
        "*   The continue statement skips the current iteration and moves to the next iteration of the loop.\n",
        "\n",
        "\n"
      ],
      "metadata": {
        "id": "jpvFxxElxR-a"
      }
    },
    {
      "cell_type": "code",
      "source": [
        "''' You’re monitoring a list of tasks in IT Debuggers, and\n",
        " you want to skip any tasks that are already marked as \"completed\" but continue checking the rest. '''\n",
        "\n",
        "tasks = [\"task1\", \"task2 (completed)\", \"task3\", \"task4 (completed)\"]\n",
        "\n",
        "for task in tasks:\n",
        "    if \"(completed)\" in task:\n",
        "        continue  # Skip completed tasks\n",
        "    print(f\"Processing {task}...\")\n"
      ],
      "metadata": {
        "colab": {
          "base_uri": "https://localhost:8080/"
        },
        "id": "T6bWKlaqxW9S",
        "outputId": "21ffdaa8-a02e-4c83-8a99-6738d014a955"
      },
      "execution_count": 4,
      "outputs": [
        {
          "output_type": "stream",
          "name": "stdout",
          "text": [
            "Processing task1...\n",
            "Processing task3...\n"
          ]
        }
      ]
    },
    {
      "cell_type": "markdown",
      "source": [
        "**b. break Statement**"
      ],
      "metadata": {
        "id": "2PCJWYUtxiqS"
      }
    },
    {
      "cell_type": "markdown",
      "source": [
        "\n",
        "\n",
        "*   The break statement exits the loop entirely, even if the loop’s condition is still true.\n",
        "\n",
        "\n"
      ],
      "metadata": {
        "id": "xwiYODZQxl_r"
      }
    },
    {
      "cell_type": "code",
      "source": [
        "''' Suppose you’re scanning a list of transactions for errors, and\n",
        "once an error is found, you want to stop the process to prevent further execution. '''\n",
        "\n",
        "transactions = [\"txn1\", \"txn2\", \"error\", \"txn3\", \"txn4\"]\n",
        "\n",
        "for transaction in transactions:\n",
        "    if transaction == \"error\":\n",
        "        print(\"Error found! Stopping execution.\")\n",
        "        break  # Stop the loop\n",
        "    print(f\"Processing {transaction}...\")\n"
      ],
      "metadata": {
        "colab": {
          "base_uri": "https://localhost:8080/"
        },
        "id": "ckDONxNpxqt8",
        "outputId": "631ec395-3ef3-4d4c-a34b-965958132717"
      },
      "execution_count": 5,
      "outputs": [
        {
          "output_type": "stream",
          "name": "stdout",
          "text": [
            "Processing txn1...\n",
            "Processing txn2...\n",
            "Error found! Stopping execution.\n"
          ]
        }
      ]
    },
    {
      "cell_type": "markdown",
      "source": [
        "**c. pass Statement**"
      ],
      "metadata": {
        "id": "_hq1IW0lx2As"
      }
    },
    {
      "cell_type": "markdown",
      "source": [
        "\n",
        "\n",
        "*   The pass statement is used when a statement is required syntactically but you don’t want any code to execute. It is often used as a placeholder for future code.\n",
        "\n",
        "\n"
      ],
      "metadata": {
        "id": "XRgyygOAx5mC"
      }
    },
    {
      "cell_type": "code",
      "source": [
        "''' You are developing a new module for error logging at IT Debuggers, but you haven’t implemented the actual logging mechanism yet.\n",
        "  You want to keep the structure in place, though. '''\n",
        "\n",
        "# Define error_logs as a list of logs\n",
        "error_logs = [\"info\", \"warning\", \"critical_error\", \"error\"]\n",
        "\n",
        "for log in error_logs:\n",
        "    if log == \"critical_error\":\n",
        "        # Code will be added here later\n",
        "        pass\n",
        "    else:\n",
        "        print(f\"Logging: {log}\")\n",
        "\n"
      ],
      "metadata": {
        "colab": {
          "base_uri": "https://localhost:8080/"
        },
        "id": "2GnIXjzWx-jJ",
        "outputId": "eb8342a7-762d-4170-fae9-0650653c4d75"
      },
      "execution_count": 7,
      "outputs": [
        {
          "output_type": "stream",
          "name": "stdout",
          "text": [
            "Logging: info\n",
            "Logging: warning\n",
            "Logging: error\n"
          ]
        }
      ]
    }
  ]
}